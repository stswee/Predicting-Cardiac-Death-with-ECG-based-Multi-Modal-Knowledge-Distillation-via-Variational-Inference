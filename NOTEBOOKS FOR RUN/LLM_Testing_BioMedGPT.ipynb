{
 "cells": [
  {
   "cell_type": "code",
   "execution_count": 38,
   "id": "8f7aecd3-b366-42aa-a2c7-0eaa0d9f48dc",
   "metadata": {},
   "outputs": [
    {
     "name": "stdout",
     "output_type": "stream",
     "text": [
      "Available GPUs: 2\n",
      "GPU 0: NVIDIA A100-SXM4-40GB\n",
      "GPU 1: NVIDIA A100-SXM4-40GB\n"
     ]
    },
    {
     "data": {
      "text/plain": [
       "<torch._C.Generator at 0x7feb2515a650>"
      ]
     },
     "execution_count": 38,
     "metadata": {},
     "output_type": "execute_result"
    }
   ],
   "source": [
    "# Import packages\n",
    "import json\n",
    "from huggingface_hub import login\n",
    "from transformers import AutoModel, AutoModelForCausalLM, AutoTokenizer, pipeline\n",
    "import transformers\n",
    "import random\n",
    "import torch\n",
    "import time\n",
    "import re\n",
    "from tqdm import tqdm\n",
    "import pandas as pd\n",
    "\n",
    "# Set GPUs\n",
    "import os\n",
    "os.environ[\"CUDA_VISIBLE_DEVICES\"] = \"2,3\"\n",
    "\n",
    "print(\"Available GPUs:\", torch.cuda.device_count())\n",
    "for i in range(torch.cuda.device_count()):\n",
    "    print(f\"GPU {i}: {torch.cuda.get_device_name(i)}\")\n",
    "\n",
    "# Set seeds\n",
    "random.seed(0)\n",
    "torch.manual_seed(0)\n"
   ]
  },
  {
   "cell_type": "code",
   "execution_count": 40,
   "id": "1519726d-c1e0-49cf-8368-e5d36349dbf1",
   "metadata": {},
   "outputs": [
    {
     "name": "stderr",
     "output_type": "stream",
     "text": [
      "Loading checkpoint shards: 100%|██████████████████████████████████████████████████████████████| 3/3 [00:07<00:00,  2.38s/it]\n",
      "/home/sswee/myenv/lib/python3.10/site-packages/transformers/generation/configuration_utils.py:629: UserWarning: `do_sample` is set to `False`. However, `temperature` is set to `0.9` -- this flag is only used in sample-based generation modes. You should set `do_sample=True` or unset `temperature`. This was detected when initializing the generation config instance, which means the corresponding file may hold incorrect parameterization and should be fixed.\n",
      "  warnings.warn(\n",
      "/home/sswee/myenv/lib/python3.10/site-packages/transformers/generation/configuration_utils.py:634: UserWarning: `do_sample` is set to `False`. However, `top_p` is set to `0.6` -- this flag is only used in sample-based generation modes. You should set `do_sample=True` or unset `top_p`. This was detected when initializing the generation config instance, which means the corresponding file may hold incorrect parameterization and should be fixed.\n",
      "  warnings.warn(\n",
      "/home/sswee/myenv/lib/python3.10/site-packages/transformers/generation/configuration_utils.py:629: UserWarning: `do_sample` is set to `False`. However, `temperature` is set to `0.9` -- this flag is only used in sample-based generation modes. You should set `do_sample=True` or unset `temperature`.\n",
      "  warnings.warn(\n",
      "/home/sswee/myenv/lib/python3.10/site-packages/transformers/generation/configuration_utils.py:634: UserWarning: `do_sample` is set to `False`. However, `top_p` is set to `0.6` -- this flag is only used in sample-based generation modes. You should set `do_sample=True` or unset `top_p`.\n",
      "  warnings.warn(\n",
      "Some parameters are on the meta device because they were offloaded to the cpu.\n"
     ]
    }
   ],
   "source": [
    "# Log into Huggingface\n",
    "with open(\"../../huggingface_token.txt\", \"r\") as file:\n",
    "    access_token = file.read().strip()\n",
    "login(access_token)\n",
    "\n",
    "# Load Huggingface Model\n",
    "# model_name = \"GanjinZero/biomistral-7B\"\n",
    "# tokenizer = AutoTokenizer.from_pretrained(model_name)\n",
    "# model = AutoModelForCausalLM.from_pretrained(model_name, token=access_token, low_cpu_mem_usage=True,\n",
    "#                     torch_dtype=torch.float16, device_map='auto')\n",
    "\n",
    "# Load model directly\n",
    "from transformers import AutoTokenizer, AutoModelForCausalLM\n",
    "\n",
    "tokenizer = AutoTokenizer.from_pretrained(\"PharMolix/BioMedGPT-LM-7B\")\n",
    "model = AutoModelForCausalLM.from_pretrained(\"PharMolix/BioMedGPT-LM-7B\", device_map = 'auto')"
   ]
  },
  {
   "cell_type": "code",
   "execution_count": 50,
   "id": "52d84325-93c7-4fd1-a003-cf89f8405b77",
   "metadata": {},
   "outputs": [],
   "source": [
    "def get_message(note):\n",
    "    \n",
    "    system = 'You are a medical assistant. Your tasks are to generate a clinical note and create an Assessment and Plan section. Additionally, you will also determine the fate of the patient. The patient either survives for the next few years or succumbs to either sudden cardiac death or pump failure death. Only suggest death if there is strong evidence for it. Provide your confidence in survival, sudden cardiac death, and pump failure death such that the confidence percentages add up to 100 percent and format these results in a list. Please output a clinical note that has a section for demographics, medical history, lab results, LVEF, medication, and ECG impressions. In the end, put the Assessment and Plan section along with a prediction. Provide reasoning for the prediction.'\n",
    "\n",
    "    # patient_info = f\"Here is the patient data: \\n{note}\"\n",
    "\n",
    "    messages = \"<<SYS>>\\n\" + system + \"\\n<</SYS>> \\n\" + \"[INST]\\n\" + note + \"\\n [/INST]\"\n",
    "\n",
    "    return messages\n",
    "\n",
    "def extract_assistant_response(response):\n",
    "    parts = response.split(\"\\n [/INST]\", 1)\n",
    "    return parts[1].strip() if len(parts) > 1 else response"
   ]
  },
  {
   "cell_type": "code",
   "execution_count": 51,
   "id": "609ef6f5-fbfe-415b-98d3-115bfee5b9fd",
   "metadata": {},
   "outputs": [
    {
     "name": "stdout",
     "output_type": "stream",
     "text": [
      "Generate a structured clinical note based on the following data:\n",
      "\n",
      "Age: 58\n",
      "Gender: Male \n",
      "Weight: 83 kg\n",
      "Height: 163 cm\n",
      "NYHA Class: III\n",
      "Blood Pressure: 110/75 mmHg\n",
      "Past Medical History: Idiopathic dilated cardiomyopathy\n",
      "Albumin (g/L): 424.0\n",
      "ALT or GPT (IU/L): 10\n",
      "AST or GOT (IU/L): 20\n",
      "Total Cholesterol (mmol/L): 54\n",
      "Creatinine (mmol/L): 106\n",
      "Gamma-glutamil transpeptidase (IU/L): 20.0\n",
      "Glucose (mmol/L): 57.0\n",
      "Hemoglobin (g/L): 132.0\n",
      "HDL (mmol/L): 1,29\n",
      "Potassium (mEq/L): 46.0\n",
      "LDL (mmol/L): 3,36\n",
      "Sodium (mEq/L): 141.0\n",
      "Pro-BNP (ng/L): 1834.0\n",
      "Protein (g/L): 69.0\n",
      "T3 (pg/dL): 0,05\n",
      "T4 (ng/L): 15.0\n",
      "Troponin (ng/mL): 0,01\n",
      "TSH (mIU/L): 3,02\n",
      "Urea (mg/dL): 712\n",
      "LVEF (%): 35\n",
      "Medications: Beta Blockers, Digoxin, Loop Diuretics, ACE Inhibitor\n",
      "Holter rhythm: permanent atrial fibrillation \n",
      "ECG Impression:\n",
      "        - Ventricular Extrasystole: Polymorphic\n",
      "        - Ventricular Tachycardia: Non-sustained VT\n",
      "        - Non-sustained ventricular tachycardia (CH>10): Yes\n",
      "        - Paroxysmal supraventricular tachyarrhythmia: Unknown paroxysmal supraventricular tachyarrhythmia code\n",
      "        - Bradycardia: Unknown bradycardia code\n",
      "            \n"
     ]
    }
   ],
   "source": [
    "# Load in csv file with prompts\n",
    "df = pd.read_csv(\"../Data/subject-info-cleaned-with-prompts.csv\")\n",
    "print(df['Prompts'][0])"
   ]
  },
  {
   "cell_type": "code",
   "execution_count": 52,
   "id": "2f853ae3-e46b-4b53-bef1-c6d391d3ddd2",
   "metadata": {},
   "outputs": [
    {
     "name": "stdout",
     "output_type": "stream",
     "text": [
      "<<SYS>>\n",
      "You are a medical assistant. Your tasks are to generate a clinical note and create an Assessment and Plan section. Additionally, you will also determine the fate of the patient. The patient either survives for the next few years or succumbs to either sudden cardiac death or pump failure death. Only suggest death if there is strong evidence for it. Provide your confidence in survival, sudden cardiac death, and pump failure death such that the confidence percentages add up to 100 percent and format these results in a list. Please output a clinical note that has a section for demographics, medical history, lab results, LVEF, medication, and ECG impressions. In the end, put the Assessment and Plan section along with a prediction. Provide reasoning for the prediction.\n",
      "<</SYS>> \n",
      "[INST]\n",
      "Generate a structured clinical note based on the following data:\n",
      "\n",
      "Age: 58\n",
      "Gender: Male \n",
      "Weight: 83 kg\n",
      "Height: 163 cm\n",
      "NYHA Class: III\n",
      "Blood Pressure: 110/75 mmHg\n",
      "Past Medical History: Idiopathic dilated cardiomyopathy\n",
      "Albumin (g/L): 424.0\n",
      "ALT or GPT (IU/L): 10\n",
      "AST or GOT (IU/L): 20\n",
      "Total Cholesterol (mmol/L): 54\n",
      "Creatinine (mmol/L): 106\n",
      "Gamma-glutamil transpeptidase (IU/L): 20.0\n",
      "Glucose (mmol/L): 57.0\n",
      "Hemoglobin (g/L): 132.0\n",
      "HDL (mmol/L): 1,29\n",
      "Potassium (mEq/L): 46.0\n",
      "LDL (mmol/L): 3,36\n",
      "Sodium (mEq/L): 141.0\n",
      "Pro-BNP (ng/L): 1834.0\n",
      "Protein (g/L): 69.0\n",
      "T3 (pg/dL): 0,05\n",
      "T4 (ng/L): 15.0\n",
      "Troponin (ng/mL): 0,01\n",
      "TSH (mIU/L): 3,02\n",
      "Urea (mg/dL): 712\n",
      "LVEF (%): 35\n",
      "Medications: Beta Blockers, Digoxin, Loop Diuretics, ACE Inhibitor\n",
      "Holter rhythm: permanent atrial fibrillation \n",
      "ECG Impression:\n",
      "        - Ventricular Extrasystole: Polymorphic\n",
      "        - Ventricular Tachycardia: Non-sustained VT\n",
      "        - Non-sustained ventricular tachycardia (CH>10): Yes\n",
      "        - Paroxysmal supraventricular tachyarrhythmia: Unknown paroxysmal supraventricular tachyarrhythmia code\n",
      "        - Bradycardia: Unknown bradycardia code\n",
      "            \n",
      " [/INST]\n"
     ]
    }
   ],
   "source": [
    "message = get_message(df['Prompts'][0])\n",
    "print(message)"
   ]
  },
  {
   "cell_type": "code",
   "execution_count": null,
   "id": "859859f7-9443-449c-adca-9777693cbe79",
   "metadata": {},
   "outputs": [
    {
     "name": "stderr",
     "output_type": "stream",
     "text": [
      "/home/sswee/myenv/lib/python3.10/site-packages/transformers/generation/configuration_utils.py:629: UserWarning: `do_sample` is set to `False`. However, `temperature` is set to `0.0` -- this flag is only used in sample-based generation modes. You should set `do_sample=True` or unset `temperature`.\n",
      "  warnings.warn(\n"
     ]
    }
   ],
   "source": [
    "# Put message into LLM\n",
    "# input_text = tokenizer.apply_chat_template(message, tokenize = False, add_generation_prompt = True)\n",
    "input_text = message\n",
    "inputs = tokenizer(input_text, return_tensors = \"pt\").to(model.device)\n",
    "output = model.generate(**inputs, max_new_tokens = 500, temperature = 0.0)"
   ]
  },
  {
   "cell_type": "code",
   "execution_count": 33,
   "id": "3e5bb423-a2e3-4a51-9d6c-0c156152bef9",
   "metadata": {},
   "outputs": [
    {
     "name": "stdout",
     "output_type": "stream",
     "text": [
      "Clinical Note:\n",
      "The patient is a 58-year-old male with a past medical history of idiopathic dilated cardiomyopathy. He presented to the clinic with complaints of shortness of breath and fatigue. The patient's vital signs were within normal limits. Physical examination revealed a regular heart rate and rhythm with no murmurs, rubs, or gallops. The patient's lungs were clear to auscultation bilaterally. The patient's abdomen was soft and nontender with normal bowel sounds. The patient's extremities were warm and well perfused.\n",
      "The patient's laboratory results were significant for a low potassium level of 3.2 mmol/L, a high creatinine level of 1.4 mg/dL, and a high pro-BNP level of 1834 pg/mL. The patient's ECG showed a normal sinus rhythm with a heart rate of 70 beats per minute, a left axis deviation, and a left ventricular hypertrophy pattern. The patient's echocardiogram showed a left ventricular ejection fraction of 35%.\n",
      "The patient's medical history, physical examination, laboratory results, and echocardiogram findings are consistent with a diagnosis of idiopathic dilated cardiomyopathy. The patient's low potassium level and high creatinine level may be due to the use of diuretics, which can cause electrolyte imbalances. The patient's high pro-BNP level may be due to the patient's heart failure.\n",
      "The patient's medications include beta blockers, digoxin, loop diuretics, and an ACE inhibitor. The patient's beta blockers and digoxin are used to treat his heart failure. The patient's loop diuretics are used to treat his fluid retention. The patient's ACE inhibitor is used to treat his hypertension.\n",
      "The patient's Holter rhythm showed permanent atrial fibrillation. The patient's ECG showed a normal sinus rhythm with a heart rate of 70 beats per minute\n"
     ]
    }
   ],
   "source": [
    "# Get result\n",
    "result = tokenizer.decode(output[0], skip_special_tokens = True)\n",
    "result = result.replace(\"**\", \"\")\n",
    "result = extract_assistant_response(result)\n",
    "print(result)"
   ]
  },
  {
   "cell_type": "code",
   "execution_count": 32,
   "id": "2758b1f6-d0b4-428e-b7e6-e2f8fc4332c7",
   "metadata": {},
   "outputs": [
    {
     "name": "stdout",
     "output_type": "stream",
     "text": [
      "Clinical Note:\n",
      "The patient is a 58-year-old male with a past medical history of idiopathic dilated cardiomyopathy. He presented to the clinic with complaints of shortness of breath and fatigue. The patient's vital signs were within normal limits. Physical examination revealed a regular heart rate and rhythm with no murmurs, rubs, or gallops. The patient's lungs were clear to auscultation bilaterally. The patient's abdomen was soft and nontender with normal bowel sounds. The patient's extremities were warm and well perfused.\n",
      "The patient's laboratory results were significant for a low potassium level of 3.2 mmol/L, a high creatinine level of 1.4 mg/dL, and a high pro-BNP level of 1834 pg/mL. The patient's ECG showed a normal sinus rhythm with a heart rate of 70 beats per minute, a left axis deviation, and a left ventricular hypertrophy pattern. The patient's echocardiogram showed a left ventricular ejection fraction of 35%.\n",
      "The patient's medical history, physical examination, laboratory results, and echocardiogram findings are consistent with a diagnosis of idiopathic dilated cardiomyopathy. The patient's low potassium level and high creatinine level may be due to the use of diuretics, which can cause electrolyte imbalances. The patient's high pro-BNP level may be due to the patient's heart failure.\n",
      "The patient's medications include beta blockers, digoxin, loop diuretics, and an ACE inhibitor. The patient's beta blockers and digoxin are used to treat his heart failure. The patient's loop diuretics are used to treat his fluid retention. The patient's ACE inhibitor is used to treat his hypertension.\n",
      "The patient's Holter rhythm showed permanent atrial fibrillation. The patient's ECG showed a normal sinus rhythm with a heart rate of 70 beats per minute\n"
     ]
    }
   ],
   "source": [
    "test_result = result.replace(\"**\", \"\")\n",
    "print(extract_assistant_response(test_result))"
   ]
  },
  {
   "cell_type": "code",
   "execution_count": 34,
   "id": "e488b15a-9f6b-4efe-9467-cd6d7f7c648e",
   "metadata": {},
   "outputs": [
    {
     "name": "stderr",
     "output_type": "stream",
     "text": [
      "/tmp/ipykernel_2320541/455679211.py:3: SettingWithCopyWarning: \n",
      "A value is trying to be set on a copy of a slice from a DataFrame.\n",
      "Try using .loc[row_indexer,col_indexer] = value instead\n",
      "\n",
      "See the caveats in the documentation: https://pandas.pydata.org/pandas-docs/stable/user_guide/indexing.html#returning-a-view-versus-a-copy\n",
      "  df_test['Reports'] = None\n"
     ]
    }
   ],
   "source": [
    "# Test\n",
    "df_test = df[[df.columns[1]]]\n",
    "df_test['Reports'] = None\n"
   ]
  },
  {
   "cell_type": "code",
   "execution_count": 37,
   "id": "a0b4c99b-0f2a-4670-b7d7-58a0566b6131",
   "metadata": {},
   "outputs": [
    {
     "name": "stderr",
     "output_type": "stream",
     "text": [
      "Test:   0%|                                                                                           | 0/5 [03:58<?, ?it/s]\n"
     ]
    },
    {
     "ename": "KeyboardInterrupt",
     "evalue": "",
     "output_type": "error",
     "traceback": [
      "\u001b[0;31m---------------------------------------------------------------------------\u001b[0m",
      "\u001b[0;31mKeyboardInterrupt\u001b[0m                         Traceback (most recent call last)",
      "Cell \u001b[0;32mIn[37], line 9\u001b[0m\n\u001b[1;32m      7\u001b[0m input_text \u001b[38;5;241m=\u001b[39m message\n\u001b[1;32m      8\u001b[0m inputs \u001b[38;5;241m=\u001b[39m tokenizer(input_text, return_tensors \u001b[38;5;241m=\u001b[39m \u001b[38;5;124m\"\u001b[39m\u001b[38;5;124mpt\u001b[39m\u001b[38;5;124m\"\u001b[39m)\u001b[38;5;241m.\u001b[39mto(model\u001b[38;5;241m.\u001b[39mdevice)\n\u001b[0;32m----> 9\u001b[0m output \u001b[38;5;241m=\u001b[39m \u001b[43mmodel\u001b[49m\u001b[38;5;241;43m.\u001b[39;49m\u001b[43mgenerate\u001b[49m\u001b[43m(\u001b[49m\u001b[38;5;241;43m*\u001b[39;49m\u001b[38;5;241;43m*\u001b[39;49m\u001b[43minputs\u001b[49m\u001b[43m,\u001b[49m\u001b[43m \u001b[49m\u001b[43mmax_new_tokens\u001b[49m\u001b[43m \u001b[49m\u001b[38;5;241;43m=\u001b[39;49m\u001b[43m \u001b[49m\u001b[38;5;241;43m1000\u001b[39;49m\u001b[43m)\u001b[49m\n\u001b[1;32m     11\u001b[0m \u001b[38;5;66;03m# Get result\u001b[39;00m\n\u001b[1;32m     12\u001b[0m result \u001b[38;5;241m=\u001b[39m tokenizer\u001b[38;5;241m.\u001b[39mdecode(output[\u001b[38;5;241m0\u001b[39m], skip_special_tokens \u001b[38;5;241m=\u001b[39m \u001b[38;5;28;01mTrue\u001b[39;00m)\n",
      "File \u001b[0;32m~/myenv/lib/python3.10/site-packages/torch/utils/_contextlib.py:116\u001b[0m, in \u001b[0;36mcontext_decorator.<locals>.decorate_context\u001b[0;34m(*args, **kwargs)\u001b[0m\n\u001b[1;32m    113\u001b[0m \u001b[38;5;129m@functools\u001b[39m\u001b[38;5;241m.\u001b[39mwraps(func)\n\u001b[1;32m    114\u001b[0m \u001b[38;5;28;01mdef\u001b[39;00m\u001b[38;5;250m \u001b[39m\u001b[38;5;21mdecorate_context\u001b[39m(\u001b[38;5;241m*\u001b[39margs, \u001b[38;5;241m*\u001b[39m\u001b[38;5;241m*\u001b[39mkwargs):\n\u001b[1;32m    115\u001b[0m     \u001b[38;5;28;01mwith\u001b[39;00m ctx_factory():\n\u001b[0;32m--> 116\u001b[0m         \u001b[38;5;28;01mreturn\u001b[39;00m \u001b[43mfunc\u001b[49m\u001b[43m(\u001b[49m\u001b[38;5;241;43m*\u001b[39;49m\u001b[43margs\u001b[49m\u001b[43m,\u001b[49m\u001b[43m \u001b[49m\u001b[38;5;241;43m*\u001b[39;49m\u001b[38;5;241;43m*\u001b[39;49m\u001b[43mkwargs\u001b[49m\u001b[43m)\u001b[49m\n",
      "File \u001b[0;32m~/myenv/lib/python3.10/site-packages/transformers/generation/utils.py:2223\u001b[0m, in \u001b[0;36mGenerationMixin.generate\u001b[0;34m(self, inputs, generation_config, logits_processor, stopping_criteria, prefix_allowed_tokens_fn, synced_gpus, assistant_model, streamer, negative_prompt_ids, negative_prompt_attention_mask, **kwargs)\u001b[0m\n\u001b[1;32m   2215\u001b[0m     input_ids, model_kwargs \u001b[38;5;241m=\u001b[39m \u001b[38;5;28mself\u001b[39m\u001b[38;5;241m.\u001b[39m_expand_inputs_for_generation(\n\u001b[1;32m   2216\u001b[0m         input_ids\u001b[38;5;241m=\u001b[39minput_ids,\n\u001b[1;32m   2217\u001b[0m         expand_size\u001b[38;5;241m=\u001b[39mgeneration_config\u001b[38;5;241m.\u001b[39mnum_return_sequences,\n\u001b[1;32m   2218\u001b[0m         is_encoder_decoder\u001b[38;5;241m=\u001b[39m\u001b[38;5;28mself\u001b[39m\u001b[38;5;241m.\u001b[39mconfig\u001b[38;5;241m.\u001b[39mis_encoder_decoder,\n\u001b[1;32m   2219\u001b[0m         \u001b[38;5;241m*\u001b[39m\u001b[38;5;241m*\u001b[39mmodel_kwargs,\n\u001b[1;32m   2220\u001b[0m     )\n\u001b[1;32m   2222\u001b[0m     \u001b[38;5;66;03m# 12. run sample (it degenerates to greedy search when `generation_config.do_sample=False`)\u001b[39;00m\n\u001b[0;32m-> 2223\u001b[0m     result \u001b[38;5;241m=\u001b[39m \u001b[38;5;28;43mself\u001b[39;49m\u001b[38;5;241;43m.\u001b[39;49m\u001b[43m_sample\u001b[49m\u001b[43m(\u001b[49m\n\u001b[1;32m   2224\u001b[0m \u001b[43m        \u001b[49m\u001b[43minput_ids\u001b[49m\u001b[43m,\u001b[49m\n\u001b[1;32m   2225\u001b[0m \u001b[43m        \u001b[49m\u001b[43mlogits_processor\u001b[49m\u001b[38;5;241;43m=\u001b[39;49m\u001b[43mprepared_logits_processor\u001b[49m\u001b[43m,\u001b[49m\n\u001b[1;32m   2226\u001b[0m \u001b[43m        \u001b[49m\u001b[43mstopping_criteria\u001b[49m\u001b[38;5;241;43m=\u001b[39;49m\u001b[43mprepared_stopping_criteria\u001b[49m\u001b[43m,\u001b[49m\n\u001b[1;32m   2227\u001b[0m \u001b[43m        \u001b[49m\u001b[43mgeneration_config\u001b[49m\u001b[38;5;241;43m=\u001b[39;49m\u001b[43mgeneration_config\u001b[49m\u001b[43m,\u001b[49m\n\u001b[1;32m   2228\u001b[0m \u001b[43m        \u001b[49m\u001b[43msynced_gpus\u001b[49m\u001b[38;5;241;43m=\u001b[39;49m\u001b[43msynced_gpus\u001b[49m\u001b[43m,\u001b[49m\n\u001b[1;32m   2229\u001b[0m \u001b[43m        \u001b[49m\u001b[43mstreamer\u001b[49m\u001b[38;5;241;43m=\u001b[39;49m\u001b[43mstreamer\u001b[49m\u001b[43m,\u001b[49m\n\u001b[1;32m   2230\u001b[0m \u001b[43m        \u001b[49m\u001b[38;5;241;43m*\u001b[39;49m\u001b[38;5;241;43m*\u001b[39;49m\u001b[43mmodel_kwargs\u001b[49m\u001b[43m,\u001b[49m\n\u001b[1;32m   2231\u001b[0m \u001b[43m    \u001b[49m\u001b[43m)\u001b[49m\n\u001b[1;32m   2233\u001b[0m \u001b[38;5;28;01melif\u001b[39;00m generation_mode \u001b[38;5;129;01min\u001b[39;00m (GenerationMode\u001b[38;5;241m.\u001b[39mBEAM_SAMPLE, GenerationMode\u001b[38;5;241m.\u001b[39mBEAM_SEARCH):\n\u001b[1;32m   2234\u001b[0m     \u001b[38;5;66;03m# 11. prepare beam search scorer\u001b[39;00m\n\u001b[1;32m   2235\u001b[0m     beam_scorer \u001b[38;5;241m=\u001b[39m BeamSearchScorer(\n\u001b[1;32m   2236\u001b[0m         batch_size\u001b[38;5;241m=\u001b[39mbatch_size,\n\u001b[1;32m   2237\u001b[0m         num_beams\u001b[38;5;241m=\u001b[39mgeneration_config\u001b[38;5;241m.\u001b[39mnum_beams,\n\u001b[0;32m   (...)\u001b[0m\n\u001b[1;32m   2242\u001b[0m         max_length\u001b[38;5;241m=\u001b[39mgeneration_config\u001b[38;5;241m.\u001b[39mmax_length,\n\u001b[1;32m   2243\u001b[0m     )\n",
      "File \u001b[0;32m~/myenv/lib/python3.10/site-packages/transformers/generation/utils.py:3217\u001b[0m, in \u001b[0;36mGenerationMixin._sample\u001b[0;34m(self, input_ids, logits_processor, stopping_criteria, generation_config, synced_gpus, streamer, **model_kwargs)\u001b[0m\n\u001b[1;32m   3214\u001b[0m     outputs \u001b[38;5;241m=\u001b[39m model_forward(\u001b[38;5;241m*\u001b[39m\u001b[38;5;241m*\u001b[39mmodel_inputs, return_dict\u001b[38;5;241m=\u001b[39m\u001b[38;5;28;01mTrue\u001b[39;00m)\n\u001b[1;32m   3216\u001b[0m \u001b[38;5;66;03m# synced_gpus: don't waste resources running the code we don't need; kwargs must be updated before skipping\u001b[39;00m\n\u001b[0;32m-> 3217\u001b[0m model_kwargs \u001b[38;5;241m=\u001b[39m \u001b[38;5;28;43mself\u001b[39;49m\u001b[38;5;241;43m.\u001b[39;49m\u001b[43m_update_model_kwargs_for_generation\u001b[49m\u001b[43m(\u001b[49m\n\u001b[1;32m   3218\u001b[0m \u001b[43m    \u001b[49m\u001b[43moutputs\u001b[49m\u001b[43m,\u001b[49m\n\u001b[1;32m   3219\u001b[0m \u001b[43m    \u001b[49m\u001b[43mmodel_kwargs\u001b[49m\u001b[43m,\u001b[49m\n\u001b[1;32m   3220\u001b[0m \u001b[43m    \u001b[49m\u001b[43mis_encoder_decoder\u001b[49m\u001b[38;5;241;43m=\u001b[39;49m\u001b[38;5;28;43mself\u001b[39;49m\u001b[38;5;241;43m.\u001b[39;49m\u001b[43mconfig\u001b[49m\u001b[38;5;241;43m.\u001b[39;49m\u001b[43mis_encoder_decoder\u001b[49m\u001b[43m,\u001b[49m\n\u001b[1;32m   3221\u001b[0m \u001b[43m\u001b[49m\u001b[43m)\u001b[49m\n\u001b[1;32m   3222\u001b[0m \u001b[38;5;28;01mif\u001b[39;00m synced_gpus \u001b[38;5;129;01mand\u001b[39;00m this_peer_finished:\n\u001b[1;32m   3223\u001b[0m     \u001b[38;5;28;01mcontinue\u001b[39;00m\n",
      "File \u001b[0;32m~/myenv/lib/python3.10/site-packages/transformers/generation/utils.py:812\u001b[0m, in \u001b[0;36mGenerationMixin._update_model_kwargs_for_generation\u001b[0;34m(self, outputs, model_kwargs, is_encoder_decoder, num_new_tokens)\u001b[0m\n\u001b[1;32m    810\u001b[0m \u001b[38;5;28;01melse\u001b[39;00m:\n\u001b[1;32m    811\u001b[0m     past_positions \u001b[38;5;241m=\u001b[39m model_kwargs\u001b[38;5;241m.\u001b[39mpop(\u001b[38;5;124m\"\u001b[39m\u001b[38;5;124mcache_position\u001b[39m\u001b[38;5;124m\"\u001b[39m)\n\u001b[0;32m--> 812\u001b[0m     new_positions \u001b[38;5;241m=\u001b[39m \u001b[43mtorch\u001b[49m\u001b[38;5;241;43m.\u001b[39;49m\u001b[43marange\u001b[49m\u001b[43m(\u001b[49m\n\u001b[1;32m    813\u001b[0m \u001b[43m        \u001b[49m\u001b[43mpast_positions\u001b[49m\u001b[43m[\u001b[49m\u001b[38;5;241;43m-\u001b[39;49m\u001b[38;5;241;43m1\u001b[39;49m\u001b[43m]\u001b[49m\u001b[43m \u001b[49m\u001b[38;5;241;43m+\u001b[39;49m\u001b[43m \u001b[49m\u001b[38;5;241;43m1\u001b[39;49m\u001b[43m,\u001b[49m\u001b[43m \u001b[49m\u001b[43mpast_positions\u001b[49m\u001b[43m[\u001b[49m\u001b[38;5;241;43m-\u001b[39;49m\u001b[38;5;241;43m1\u001b[39;49m\u001b[43m]\u001b[49m\u001b[43m \u001b[49m\u001b[38;5;241;43m+\u001b[39;49m\u001b[43m \u001b[49m\u001b[43mnum_new_tokens\u001b[49m\u001b[43m \u001b[49m\u001b[38;5;241;43m+\u001b[39;49m\u001b[43m \u001b[49m\u001b[38;5;241;43m1\u001b[39;49m\u001b[43m,\u001b[49m\u001b[43m \u001b[49m\u001b[43mdtype\u001b[49m\u001b[38;5;241;43m=\u001b[39;49m\u001b[43mpast_positions\u001b[49m\u001b[38;5;241;43m.\u001b[39;49m\u001b[43mdtype\u001b[49m\n\u001b[1;32m    814\u001b[0m \u001b[43m    \u001b[49m\u001b[43m)\u001b[49m\u001b[38;5;241m.\u001b[39mto(past_positions\u001b[38;5;241m.\u001b[39mdevice)\n\u001b[1;32m    815\u001b[0m     model_kwargs[\u001b[38;5;124m\"\u001b[39m\u001b[38;5;124mcache_position\u001b[39m\u001b[38;5;124m\"\u001b[39m] \u001b[38;5;241m=\u001b[39m torch\u001b[38;5;241m.\u001b[39mcat((past_positions, new_positions))\n\u001b[1;32m    816\u001b[0m \u001b[38;5;28;01mreturn\u001b[39;00m model_kwargs\n",
      "\u001b[0;31mKeyboardInterrupt\u001b[0m: "
     ]
    }
   ],
   "source": [
    "for i in tqdm(range(5), desc = \"Test\"):\n",
    "    # Get message\n",
    "    message = get_message(df['Prompts'][i])\n",
    "\n",
    "    # Put message into LLM\n",
    "    # input_text = tokenizer.apply_chat_template(message, tokenize = False, add_generation_prompt = True)\n",
    "    input_text = message\n",
    "    inputs = tokenizer(input_text, return_tensors = \"pt\").to(model.device)\n",
    "    output = model.generate(**inputs, max_new_tokens = 1000)\n",
    "\n",
    "    # Get result\n",
    "    result = tokenizer.decode(output[0], skip_special_tokens = True)\n",
    "    result = result.replace(\"**\", \"\")\n",
    "    result = extract_assistant_response(result)\n",
    "\n",
    "    # Store result\n",
    "    df_test.loc[i, 'Reports'] = result\n",
    "    "
   ]
  },
  {
   "cell_type": "code",
   "execution_count": 40,
   "id": "969e0f1e-6f5a-4c6a-90ed-4b4a3d50ad90",
   "metadata": {},
   "outputs": [
    {
     "name": "stdout",
     "output_type": "stream",
     "text": [
      "Clinical Note\n",
      "\n",
      "Demographics\n",
      "\n",
      "- Patient Name: [Not provided]\n",
      "- Date of Birth: [Not provided]\n",
      "- Age: 58\n",
      "- Gender: Male\n",
      "- Weight: 74 kg\n",
      "- Height: 160 cm\n",
      "\n",
      "Medical History\n",
      "\n",
      "- Ischemic dilated cardiomyopathy\n",
      "- Dyslipemia\n",
      "- Myocardial Infarction\n",
      "- NYHA Class II\n",
      "\n",
      "Lab Results\n",
      "\n",
      "- Albumin: 404.0 g/L\n",
      "- ALT: 20 IU/L\n",
      "- AST: 20 IU/L\n",
      "- Total Cholesterol: 618 mmol/L\n",
      "- Creatinine: 121 mmol/L\n",
      "- Gamma-glutamil transpeptidase: 44.0 IU/L\n",
      "- Glucose: 56.0 mmol/L\n",
      "- Hemoglobin: 126.0 g/L\n",
      "- HDL: 0.98 mmol/L\n",
      "- Potassium: 4.6 mEq/L\n",
      "- LDL: 4.06 mmol/L\n",
      "- Sodium: 140.0 mEq/L\n",
      "- Pro-BNP: 570.0 ng/L\n",
      "- Protein: 75.0 g/L\n",
      "- T3: 0.04 pg/dL\n",
      "- T4: 12.0 ng/L\n",
      "- Troponin: 0.01 ng/mL\n",
      "- TSH: 3.27 mIU/L\n",
      "- Urea: 104.7 mg/dL\n",
      "\n",
      "Medications\n",
      "\n",
      "- Angiotensin II Receptor Blocker\n",
      "- Beta Blockers\n",
      "- Statins\n",
      "\n",
      "ECG Impressions\n",
      "\n",
      "- Ventricular Extrasystole: Monomorphic\n",
      "- Ventricular Tachycardia: No\n",
      "- Non-sustained ventricular tachycardia (CH>10): No\n",
      "- Paroxysmal supraventricular tachyarrhythmia: No\n",
      "- Bradycardia: No\n",
      "\n",
      "LVEF\n",
      "\n",
      "- Left Ventricular Ejection Fraction (LVEF): 35%\n",
      "\n",
      "Assessment and Plan\n",
      "\n",
      "Based on the patient's history of ischemic dilated cardiomyopathy, low LVEF, and elevated Pro-BNP levels, the patient is at high risk for heart failure. The presence of ventricular extrasystoles on the ECG also suggests underlying cardiac disease. However, the patient's current medications (Angiotensin II Receptor Blocker, Beta Blockers, Statins) are appropriate for managing heart failure and dyslipemia.\n",
      "\n",
      "Prediction\n",
      "\n",
      "- Confidence in survival for the next few years: 60%\n",
      "- Confidence in sudden cardiac death: 20%\n",
      "- Confidence in pump failure death: 20%\n",
      "\n",
      "The patient's low LVEF and history of myocardial infarction suggest a high risk for cardiac complications. However, the patient's current medications and the absence of ventricular tachycardia or non-sustained ventricular tachycardia on the ECG suggest that the patient is at lower risk for sudden cardiac death. The patient's Pro-BNP levels are elevated, indicating ongoing heart failure, but the patient's hemoglobin and albumin levels are within normal limits, suggesting that the patient is not in acute heart failure. Therefore, the patient's risk for pump failure death is also lower than sudden cardiac death.\n",
      "\n",
      "Reasoning for Prediction\n",
      "\n",
      "- Low LVEF and history of myocardial infarction increase the risk for cardiac complications\n",
      "- Current medications are appropriate for managing heart failure and dyslipemia\n",
      "- Elevated Pro-BNP levels suggest ongoing heart failure\n",
      "- Absence of ventricular tachycardia or non-sustained ventricular tachycardia on the ECG reduces the risk for sudden cardiac death\n",
      "- Hemoglobin and albumin levels are within normal limits, indicating that the patient is not in acute heart failure.\n"
     ]
    }
   ],
   "source": [
    "print(df_test['Reports'][1])"
   ]
  }
 ],
 "metadata": {
  "kernelspec": {
   "display_name": "Python 3 (ipykernel)",
   "language": "python",
   "name": "python3"
  },
  "language_info": {
   "codemirror_mode": {
    "name": "ipython",
    "version": 3
   },
   "file_extension": ".py",
   "mimetype": "text/x-python",
   "name": "python",
   "nbconvert_exporter": "python",
   "pygments_lexer": "ipython3",
   "version": "3.10.12"
  }
 },
 "nbformat": 4,
 "nbformat_minor": 5
}
