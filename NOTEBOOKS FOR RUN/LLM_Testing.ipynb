{
 "cells": [
  {
   "cell_type": "code",
   "execution_count": 3,
   "id": "8f7aecd3-b366-42aa-a2c7-0eaa0d9f48dc",
   "metadata": {},
   "outputs": [
    {
     "name": "stdout",
     "output_type": "stream",
     "text": [
      "Available GPUs: 2\n",
      "GPU 0: NVIDIA A100-SXM4-40GB\n",
      "GPU 1: NVIDIA A100-SXM4-40GB\n"
     ]
    },
    {
     "data": {
      "text/plain": [
       "<torch._C.Generator at 0x7f589415e630>"
      ]
     },
     "execution_count": 3,
     "metadata": {},
     "output_type": "execute_result"
    }
   ],
   "source": [
    "# Import packages\n",
    "import json\n",
    "from huggingface_hub import login\n",
    "from transformers import AutoModel, AutoModelForCausalLM, AutoTokenizer, pipeline\n",
    "import transformers\n",
    "import random\n",
    "import torch\n",
    "import time\n",
    "import re\n",
    "from tqdm import tqdm\n",
    "import pandas as pd\n",
    "\n",
    "# Set GPUs\n",
    "import os\n",
    "os.environ[\"CUDA_VISIBLE_DEVICES\"] = \"1,2\"\n",
    "\n",
    "print(\"Available GPUs:\", torch.cuda.device_count())\n",
    "for i in range(torch.cuda.device_count()):\n",
    "    print(f\"GPU {i}: {torch.cuda.get_device_name(i)}\")\n",
    "\n",
    "# Set seeds\n",
    "random.seed(0)\n",
    "torch.manual_seed(0)\n"
   ]
  },
  {
   "cell_type": "code",
   "execution_count": 2,
   "id": "1519726d-c1e0-49cf-8368-e5d36349dbf1",
   "metadata": {},
   "outputs": [
    {
     "name": "stderr",
     "output_type": "stream",
     "text": [
      "Loading checkpoint shards: 100%|██████████████████████████████████████████████████████████████████████████████████████████████████████████████████| 4/4 [00:06<00:00,  1.65s/it]\n"
     ]
    }
   ],
   "source": [
    "# Log into Huggingface\n",
    "with open(\"../../huggingface_token.txt\", \"r\") as file:\n",
    "    access_token = file.read().strip()\n",
    "login(access_token)\n",
    "\n",
    "# Load Huggingface Model\n",
    "model_name = \"meta-llama/Llama-3.1-8B-Instruct\"\n",
    "tokenizer = AutoTokenizer.from_pretrained(model_name)\n",
    "model = AutoModelForCausalLM.from_pretrained(model_name, token=access_token, low_cpu_mem_usage=True,\n",
    "                    torch_dtype=torch.float16, device_map='auto')"
   ]
  },
  {
   "cell_type": "code",
   "execution_count": 29,
   "id": "52d84325-93c7-4fd1-a003-cf89f8405b77",
   "metadata": {},
   "outputs": [],
   "source": [
    "def get_message(note):\n",
    "    system = 'You are a medical assistant. Your tasks are to generate a clinical note and create an Assessment and Plan section. Additionally, you will also determine the fate of the patient. The patient either survives for the next few years or succumbs to either sudden cardiac death or pump failure death. Only suggest death if there is strong evidence for it. Provide your confidence in survival, sudden cardiac death, and pump failure death such that the confidence percentages add up to 100 percent and format these results in a list. Please output a clinical note that has a section for demographics, medical history, lab results, LVEF, medication, and ECG impressions. In the end, put the Assessment and Plan section along with a prediction. Provide reasoning for the prediction.'\n",
    "\n",
    "    prompt = f\"Here is the patient data: \\n{note}\"\n",
    "\n",
    "    messages = [\n",
    "\t\t{\"role\": \"system\", \"content\": system},\n",
    "\t\t{\"role\": \"user\", \"content\": prompt}\n",
    "\t]\n",
    "\n",
    "    return messages\n",
    "\n",
    "def extract_assistant_response(response):\n",
    "    parts = response.split(\"assistant\\n\\n\", 1)\n",
    "    return parts[1].strip() if len(parts) > 1 else response"
   ]
  },
  {
   "cell_type": "code",
   "execution_count": 30,
   "id": "609ef6f5-fbfe-415b-98d3-115bfee5b9fd",
   "metadata": {},
   "outputs": [
    {
     "data": {
      "text/plain": [
       "'Generate a structured clinical note based on the following data:\\n\\nAge: 58\\nGender: Male \\nWeight: 83 kg\\nHeight: 163 cm\\nNYHA Class: III\\nBlood Pressure: 110/75 mmHg\\nPast Medical History: Idiopathic dilated cardiomyopathy\\nAlbumin (g/L): 424.0\\nALT or GPT (IU/L): 10\\nAST or GOT (IU/L): 20\\nTotal Cholesterol (mmol/L): 54\\nCreatinine (mmol/L): 106\\nGamma-glutamil transpeptidase (IU/L): 20.0\\nGlucose (mmol/L): 57.0\\nHemoglobin (g/L): 132.0\\nHDL (mmol/L): 1,29\\nPotassium (mEq/L): 46.0\\nLDL (mmol/L): 3,36\\nSodium (mEq/L): 141.0\\nPro-BNP (ng/L): 1834.0\\nProtein (g/L): 69.0\\nT3 (pg/dL): 0,05\\nT4 (ng/L): 15.0\\nTroponin (ng/mL): 0,01\\nTSH (mIU/L): 3,02\\nUrea (mg/dL): 712\\nLVEF (%): 35\\nMedications: Beta Blockers, Digoxin, Loop Diuretics, ACE Inhibitor\\nHolter rhythm: permanent atrial fibrillation \\nECG Impression:\\n        - Ventricular Extrasystole: Polymorphic\\n        - Ventricular Tachycardia: Non-sustained VT\\n        - Non-sustained ventricular tachycardia (CH>10): Yes\\n        - Paroxysmal supraventricular tachyarrhythmia: Unknown paroxysmal supraventricular tachyarrhythmia code\\n        - Bradycardia: Unknown bradycardia code\\n            '"
      ]
     },
     "execution_count": 30,
     "metadata": {},
     "output_type": "execute_result"
    }
   ],
   "source": [
    "# Load in csv file with prompts\n",
    "df = pd.read_csv(\"../Data/subject-info-cleaned-with-prompts.csv\")\n",
    "df['Prompts'][0]"
   ]
  },
  {
   "cell_type": "code",
   "execution_count": 32,
   "id": "2f853ae3-e46b-4b53-bef1-c6d391d3ddd2",
   "metadata": {},
   "outputs": [
    {
     "data": {
      "text/plain": [
       "[{'role': 'system',\n",
       "  'content': 'You are a medical assistant. Your tasks are to generate a clinical note and create an Assessment and Plan section. Additionally, you will also determine the fate of the patient. The patient either survives for the next few years or succumbs to either sudden cardiac death or pump failure death. Only suggest death if there is strong evidence for it. Provide your confidence in survival, sudden cardiac death, and pump failure death such that the confidence percentages add up to 100 percent and format these results in a list. Please output a clinical note that has a section for demographics, medical history, lab results, LVEF, medication, and ECG impressions. In the end, put the Assessment and Plan section along with a prediction. Provide reasoning for the prediction.'},\n",
       " {'role': 'user',\n",
       "  'content': 'Here is the patient data: \\nGenerate a structured clinical note based on the following data:\\n\\nAge: 58\\nGender: Male \\nWeight: 83 kg\\nHeight: 163 cm\\nNYHA Class: III\\nBlood Pressure: 110/75 mmHg\\nPast Medical History: Idiopathic dilated cardiomyopathy\\nAlbumin (g/L): 424.0\\nALT or GPT (IU/L): 10\\nAST or GOT (IU/L): 20\\nTotal Cholesterol (mmol/L): 54\\nCreatinine (mmol/L): 106\\nGamma-glutamil transpeptidase (IU/L): 20.0\\nGlucose (mmol/L): 57.0\\nHemoglobin (g/L): 132.0\\nHDL (mmol/L): 1,29\\nPotassium (mEq/L): 46.0\\nLDL (mmol/L): 3,36\\nSodium (mEq/L): 141.0\\nPro-BNP (ng/L): 1834.0\\nProtein (g/L): 69.0\\nT3 (pg/dL): 0,05\\nT4 (ng/L): 15.0\\nTroponin (ng/mL): 0,01\\nTSH (mIU/L): 3,02\\nUrea (mg/dL): 712\\nLVEF (%): 35\\nMedications: Beta Blockers, Digoxin, Loop Diuretics, ACE Inhibitor\\nHolter rhythm: permanent atrial fibrillation \\nECG Impression:\\n        - Ventricular Extrasystole: Polymorphic\\n        - Ventricular Tachycardia: Non-sustained VT\\n        - Non-sustained ventricular tachycardia (CH>10): Yes\\n        - Paroxysmal supraventricular tachyarrhythmia: Unknown paroxysmal supraventricular tachyarrhythmia code\\n        - Bradycardia: Unknown bradycardia code\\n            '}]"
      ]
     },
     "execution_count": 32,
     "metadata": {},
     "output_type": "execute_result"
    }
   ],
   "source": [
    "message = get_message(df['Prompts'][0])\n",
    "message"
   ]
  },
  {
   "cell_type": "code",
   "execution_count": 33,
   "id": "859859f7-9443-449c-adca-9777693cbe79",
   "metadata": {},
   "outputs": [
    {
     "name": "stderr",
     "output_type": "stream",
     "text": [
      "Setting `pad_token_id` to `eos_token_id`:128001 for open-end generation.\n"
     ]
    }
   ],
   "source": [
    "# Put message into LLM\n",
    "input_text = tokenizer.apply_chat_template(message, tokenize = False, add_generation_prompt = True)\n",
    "inputs = tokenizer(input_text, return_tensors = \"pt\").to(model.device)\n",
    "output = model.generate(**inputs, max_new_tokens = 1000)"
   ]
  },
  {
   "cell_type": "code",
   "execution_count": 34,
   "id": "3e5bb423-a2e3-4a51-9d6c-0c156152bef9",
   "metadata": {},
   "outputs": [
    {
     "data": {
      "text/plain": [
       "\"Clinical Note\\n\\nDemographics:\\n\\n- Patient Name: [Insert Patient Name]\\n- Age: 58 years\\n- Gender: Male\\n- Weight: 83 kg\\n- Height: 163 cm\\n\\nMedical History:\\n\\n- Past Medical History: Idiopathic dilated cardiomyopathy\\n- Current Medications:\\n  - Beta Blockers\\n  - Digoxin\\n  - Loop Diuretics\\n  - ACE Inhibitor\\n\\nLab Results:\\n\\n- Albumin: 424.0 g/L\\n- ALT or GPT: 10 IU/L\\n- AST or GOT: 20 IU/L\\n- Total Cholesterol: 54 mmol/L\\n- Creatinine: 106 mmol/L\\n- Gamma-glutamil transpeptidase: 20.0 IU/L\\n- Glucose: 57.0 mmol/L\\n- Hemoglobin: 132.0 g/L\\n- HDL: 1.29 mmol/L\\n- Potassium: 4.6 mEq/L\\n- LDL: 3.36 mmol/L\\n- Sodium: 141.0 mEq/L\\n- Pro-BNP: 1834.0 ng/L\\n- Protein: 69.0 g/L\\n- T3: 0.05 pg/dL\\n- T4: 15.0 ng/L\\n- Troponin: 0.01 ng/mL\\n- TSH: 3.02 mIU/L\\n- Urea: 7.12 mg/dL\\n\\nLVEF:\\n\\n- Left Ventricular Ejection Fraction (LVEF): 35%\\n\\nECG Impression:\\n\\n- Ventricular Extrasystole: Polymorphic\\n- Ventricular Tachycardia: Non-sustained VT\\n- Non-sustained ventricular tachycardia (CH>10): Yes\\n- Paroxysmal supraventricular tachyarrhythmia: Unknown paroxysmal supraventricular tachyarrhythmia code\\n- Bradycardia: Unknown bradycardia code\\n\\nAssessment and Plan:\\n\\nThis patient has a history of idiopathic dilated cardiomyopathy with a significantly reduced LVEF of 35%. He is on beta blockers, digoxin, loop diuretics, and an ACE inhibitor. His lab results show elevated pro-BNP levels, indicating heart failure. The presence of non-sustained ventricular tachycardia and polymorphic ventricular extrasystoles on ECG suggests a high risk of arrhythmias.\\n\\nBased on the patient's history, lab results, and ECG findings, I assess his condition as follows:\\n\\n- Survival for the next few years: 60%\\n- Sudden cardiac death: 25%\\n- Pump failure death: 15%\\n\\nThe patient's reduced LVEF and elevated pro-BNP levels indicate a high risk of heart failure progression. However, his current medications and the absence of severe electrolyte imbalances or acute kidney injury suggest that he is being managed appropriately. The presence of non-sustained ventricular tachycardia and polymorphic ventricular extrasystoles on ECG increases his risk of sudden cardiac death. Given these factors, I predict that the patient has a moderate risk of survival for the next few years, a higher risk of sudden cardiac death, and a lower risk of pump failure death.\\n\\nReasoning:\\n\\nThe patient's reduced LVEF and elevated pro-BNP levels suggest a high risk of heart failure progression, which increases his risk of pump failure death. However, his current medications and the absence of severe electrolyte imbalances or acute kidney injury suggest that he is being managed appropriately. The presence of non-sustained ventricular tachycardia and polymorphic ventricular extrasystoles on ECG increases his risk of sudden cardiac death. Therefore, I predict that the patient has a moderate risk of survival for the next few years, a higher risk of sudden cardiac death, and a lower risk of pump failure death.\""
      ]
     },
     "execution_count": 34,
     "metadata": {},
     "output_type": "execute_result"
    }
   ],
   "source": [
    "# Get result\n",
    "result = tokenizer.decode(output[0], skip_special_tokens = True)\n",
    "result = result.replace(\"**\", \"\")\n",
    "result = extract_assistant_response(result)\n",
    "result"
   ]
  },
  {
   "cell_type": "code",
   "execution_count": 35,
   "id": "2758b1f6-d0b4-428e-b7e6-e2f8fc4332c7",
   "metadata": {},
   "outputs": [
    {
     "name": "stdout",
     "output_type": "stream",
     "text": [
      "Clinical Note\n",
      "\n",
      "Demographics:\n",
      "\n",
      "- Patient Name: [Insert Patient Name]\n",
      "- Age: 58 years\n",
      "- Gender: Male\n",
      "- Weight: 83 kg\n",
      "- Height: 163 cm\n",
      "\n",
      "Medical History:\n",
      "\n",
      "- Past Medical History: Idiopathic dilated cardiomyopathy\n",
      "- Current Medications:\n",
      "  - Beta Blockers\n",
      "  - Digoxin\n",
      "  - Loop Diuretics\n",
      "  - ACE Inhibitor\n",
      "\n",
      "Lab Results:\n",
      "\n",
      "- Albumin: 424.0 g/L\n",
      "- ALT or GPT: 10 IU/L\n",
      "- AST or GOT: 20 IU/L\n",
      "- Total Cholesterol: 54 mmol/L\n",
      "- Creatinine: 106 mmol/L\n",
      "- Gamma-glutamil transpeptidase: 20.0 IU/L\n",
      "- Glucose: 57.0 mmol/L\n",
      "- Hemoglobin: 132.0 g/L\n",
      "- HDL: 1.29 mmol/L\n",
      "- Potassium: 4.6 mEq/L\n",
      "- LDL: 3.36 mmol/L\n",
      "- Sodium: 141.0 mEq/L\n",
      "- Pro-BNP: 1834.0 ng/L\n",
      "- Protein: 69.0 g/L\n",
      "- T3: 0.05 pg/dL\n",
      "- T4: 15.0 ng/L\n",
      "- Troponin: 0.01 ng/mL\n",
      "- TSH: 3.02 mIU/L\n",
      "- Urea: 7.12 mg/dL\n",
      "\n",
      "LVEF:\n",
      "\n",
      "- Left Ventricular Ejection Fraction (LVEF): 35%\n",
      "\n",
      "ECG Impression:\n",
      "\n",
      "- Ventricular Extrasystole: Polymorphic\n",
      "- Ventricular Tachycardia: Non-sustained VT\n",
      "- Non-sustained ventricular tachycardia (CH>10): Yes\n",
      "- Paroxysmal supraventricular tachyarrhythmia: Unknown paroxysmal supraventricular tachyarrhythmia code\n",
      "- Bradycardia: Unknown bradycardia code\n",
      "\n",
      "Assessment and Plan:\n",
      "\n",
      "This patient has a history of idiopathic dilated cardiomyopathy with a significantly reduced LVEF of 35%. He is on beta blockers, digoxin, loop diuretics, and an ACE inhibitor. His lab results show elevated pro-BNP levels, indicating heart failure. The presence of non-sustained ventricular tachycardia and polymorphic ventricular extrasystoles on ECG suggests a high risk of arrhythmias.\n",
      "\n",
      "Based on the patient's history, lab results, and ECG findings, I assess his condition as follows:\n",
      "\n",
      "- Survival for the next few years: 60%\n",
      "- Sudden cardiac death: 25%\n",
      "- Pump failure death: 15%\n",
      "\n",
      "The patient's reduced LVEF and elevated pro-BNP levels indicate a high risk of heart failure progression. However, his current medications and the absence of severe electrolyte imbalances or acute kidney injury suggest that he is being managed appropriately. The presence of non-sustained ventricular tachycardia and polymorphic ventricular extrasystoles on ECG increases his risk of sudden cardiac death. Given these factors, I predict that the patient has a moderate risk of survival for the next few years, a higher risk of sudden cardiac death, and a lower risk of pump failure death.\n",
      "\n",
      "Reasoning:\n",
      "\n",
      "The patient's reduced LVEF and elevated pro-BNP levels suggest a high risk of heart failure progression, which increases his risk of pump failure death. However, his current medications and the absence of severe electrolyte imbalances or acute kidney injury suggest that he is being managed appropriately. The presence of non-sustained ventricular tachycardia and polymorphic ventricular extrasystoles on ECG increases his risk of sudden cardiac death. Therefore, I predict that the patient has a moderate risk of survival for the next few years, a higher risk of sudden cardiac death, and a lower risk of pump failure death.\n"
     ]
    }
   ],
   "source": [
    "test_result = result.replace(\"**\", \"\")\n",
    "print(extract_assistant_response(test_result))"
   ]
  },
  {
   "cell_type": "code",
   "execution_count": 36,
   "id": "e488b15a-9f6b-4efe-9467-cd6d7f7c648e",
   "metadata": {},
   "outputs": [
    {
     "name": "stderr",
     "output_type": "stream",
     "text": [
      "/tmp/ipykernel_1524402/455679211.py:3: SettingWithCopyWarning: \n",
      "A value is trying to be set on a copy of a slice from a DataFrame.\n",
      "Try using .loc[row_indexer,col_indexer] = value instead\n",
      "\n",
      "See the caveats in the documentation: https://pandas.pydata.org/pandas-docs/stable/user_guide/indexing.html#returning-a-view-versus-a-copy\n",
      "  df_test['Reports'] = None\n"
     ]
    }
   ],
   "source": [
    "# Test\n",
    "df_test = df[[df.columns[1]]]\n",
    "df_test['Reports'] = None\n"
   ]
  },
  {
   "cell_type": "code",
   "execution_count": 37,
   "id": "a0b4c99b-0f2a-4670-b7d7-58a0566b6131",
   "metadata": {},
   "outputs": [
    {
     "name": "stderr",
     "output_type": "stream",
     "text": [
      "Setting `pad_token_id` to `eos_token_id`:128001 for open-end generation.                                                                                  | 0/5 [00:00<?, ?it/s]\n",
      "Setting `pad_token_id` to `eos_token_id`:128001 for open-end generation.                                                                          | 1/5 [00:39<02:37, 39.41s/it]\n",
      "Setting `pad_token_id` to `eos_token_id`:128001 for open-end generation.                                                                          | 2/5 [01:11<01:44, 34.89s/it]\n",
      "Setting `pad_token_id` to `eos_token_id`:128001 for open-end generation.████████████████████                                                      | 3/5 [01:40<01:05, 32.53s/it]\n",
      "Setting `pad_token_id` to `eos_token_id`:128001 for open-end generation.███████████████████████████████████████████████                           | 4/5 [02:15<00:33, 33.32s/it]\n",
      "Test: 100%|███████████████████████████████████████████████████████████████████████████████████████████████████████████████████████████████████████| 5/5 [02:47<00:00, 33.51s/it]\n"
     ]
    }
   ],
   "source": [
    "for i in tqdm(range(5), desc = \"Test\"):\n",
    "    # Get message\n",
    "    message = get_message(df['Prompts'][i])\n",
    "\n",
    "    # Put message into LLM\n",
    "    input_text = tokenizer.apply_chat_template(message, tokenize = False, add_generation_prompt = True)\n",
    "    inputs = tokenizer(input_text, return_tensors = \"pt\").to(model.device)\n",
    "    output = model.generate(**inputs, max_new_tokens = 1000)\n",
    "\n",
    "    # Get result\n",
    "    result = tokenizer.decode(output[0], skip_special_tokens = True)\n",
    "    result = result.replace(\"**\", \"\")\n",
    "    result = extract_assistant_response(result)\n",
    "\n",
    "    # Store result\n",
    "    df_test.loc[i, 'Reports'] = result\n",
    "    "
   ]
  },
  {
   "cell_type": "code",
   "execution_count": 40,
   "id": "969e0f1e-6f5a-4c6a-90ed-4b4a3d50ad90",
   "metadata": {},
   "outputs": [
    {
     "name": "stdout",
     "output_type": "stream",
     "text": [
      "Clinical Note\n",
      "\n",
      "Demographics\n",
      "\n",
      "- Patient Name: [Not provided]\n",
      "- Date of Birth: [Not provided]\n",
      "- Age: 58\n",
      "- Gender: Male\n",
      "- Weight: 74 kg\n",
      "- Height: 160 cm\n",
      "\n",
      "Medical History\n",
      "\n",
      "- Ischemic dilated cardiomyopathy\n",
      "- Dyslipemia\n",
      "- Myocardial Infarction\n",
      "- NYHA Class II\n",
      "\n",
      "Lab Results\n",
      "\n",
      "- Albumin: 404.0 g/L\n",
      "- ALT: 20 IU/L\n",
      "- AST: 20 IU/L\n",
      "- Total Cholesterol: 618 mmol/L\n",
      "- Creatinine: 121 mmol/L\n",
      "- Gamma-glutamil transpeptidase: 44.0 IU/L\n",
      "- Glucose: 56.0 mmol/L\n",
      "- Hemoglobin: 126.0 g/L\n",
      "- HDL: 0.98 mmol/L\n",
      "- Potassium: 4.6 mEq/L\n",
      "- LDL: 4.06 mmol/L\n",
      "- Sodium: 140.0 mEq/L\n",
      "- Pro-BNP: 570.0 ng/L\n",
      "- Protein: 75.0 g/L\n",
      "- T3: 0.04 pg/dL\n",
      "- T4: 12.0 ng/L\n",
      "- Troponin: 0.01 ng/mL\n",
      "- TSH: 3.27 mIU/L\n",
      "- Urea: 104.7 mg/dL\n",
      "\n",
      "Medications\n",
      "\n",
      "- Angiotensin II Receptor Blocker\n",
      "- Beta Blockers\n",
      "- Statins\n",
      "\n",
      "ECG Impressions\n",
      "\n",
      "- Ventricular Extrasystole: Monomorphic\n",
      "- Ventricular Tachycardia: No\n",
      "- Non-sustained ventricular tachycardia (CH>10): No\n",
      "- Paroxysmal supraventricular tachyarrhythmia: No\n",
      "- Bradycardia: No\n",
      "\n",
      "LVEF\n",
      "\n",
      "- Left Ventricular Ejection Fraction (LVEF): 35%\n",
      "\n",
      "Assessment and Plan\n",
      "\n",
      "Based on the patient's history of ischemic dilated cardiomyopathy, low LVEF, and elevated Pro-BNP levels, the patient is at high risk for heart failure. The presence of ventricular extrasystoles on the ECG also suggests underlying cardiac disease. However, the patient's current medications (Angiotensin II Receptor Blocker, Beta Blockers, Statins) are appropriate for managing heart failure and dyslipemia.\n",
      "\n",
      "Prediction\n",
      "\n",
      "- Confidence in survival for the next few years: 60%\n",
      "- Confidence in sudden cardiac death: 20%\n",
      "- Confidence in pump failure death: 20%\n",
      "\n",
      "The patient's low LVEF and history of myocardial infarction suggest a high risk for cardiac complications. However, the patient's current medications and the absence of ventricular tachycardia or non-sustained ventricular tachycardia on the ECG suggest that the patient is at lower risk for sudden cardiac death. The patient's Pro-BNP levels are elevated, indicating ongoing heart failure, but the patient's hemoglobin and albumin levels are within normal limits, suggesting that the patient is not in acute heart failure. Therefore, the patient's risk for pump failure death is also lower than sudden cardiac death.\n",
      "\n",
      "Reasoning for Prediction\n",
      "\n",
      "- Low LVEF and history of myocardial infarction increase the risk for cardiac complications\n",
      "- Current medications are appropriate for managing heart failure and dyslipemia\n",
      "- Elevated Pro-BNP levels suggest ongoing heart failure\n",
      "- Absence of ventricular tachycardia or non-sustained ventricular tachycardia on the ECG reduces the risk for sudden cardiac death\n",
      "- Hemoglobin and albumin levels are within normal limits, indicating that the patient is not in acute heart failure.\n"
     ]
    }
   ],
   "source": [
    "print(df_test['Reports'][1])"
   ]
  }
 ],
 "metadata": {
  "kernelspec": {
   "display_name": "Python 3 (ipykernel)",
   "language": "python",
   "name": "python3"
  },
  "language_info": {
   "codemirror_mode": {
    "name": "ipython",
    "version": 3
   },
   "file_extension": ".py",
   "mimetype": "text/x-python",
   "name": "python",
   "nbconvert_exporter": "python",
   "pygments_lexer": "ipython3",
   "version": "3.10.12"
  }
 },
 "nbformat": 4,
 "nbformat_minor": 5
}
