{
 "cells": [
  {
   "cell_type": "code",
   "execution_count": 1,
   "id": "8f7aecd3-b366-42aa-a2c7-0eaa0d9f48dc",
   "metadata": {},
   "outputs": [
    {
     "name": "stderr",
     "output_type": "stream",
     "text": [
      "/home/sswee/myenv/lib/python3.10/site-packages/tqdm/auto.py:21: TqdmWarning: IProgress not found. Please update jupyter and ipywidgets. See https://ipywidgets.readthedocs.io/en/stable/user_install.html\n",
      "  from .autonotebook import tqdm as notebook_tqdm\n"
     ]
    },
    {
     "name": "stdout",
     "output_type": "stream",
     "text": [
      "Available GPUs: 2\n",
      "GPU 0: NVIDIA A100-SXM4-40GB\n",
      "GPU 1: NVIDIA A100-SXM4-40GB\n"
     ]
    },
    {
     "data": {
      "text/plain": [
       "<torch._C.Generator at 0x7f475bf6e6f0>"
      ]
     },
     "execution_count": 1,
     "metadata": {},
     "output_type": "execute_result"
    }
   ],
   "source": [
    "# Import packages\n",
    "import json\n",
    "from huggingface_hub import login\n",
    "from transformers import AutoModel, AutoModelForCausalLM, AutoTokenizer, pipeline\n",
    "import transformers\n",
    "import random\n",
    "import torch\n",
    "import time\n",
    "import re\n",
    "from tqdm import tqdm\n",
    "import pandas as pd\n",
    "\n",
    "# Set GPUs\n",
    "import os\n",
    "os.environ[\"CUDA_VISIBLE_DEVICES\"] = \"2,4\"\n",
    "\n",
    "print(\"Available GPUs:\", torch.cuda.device_count())\n",
    "for i in range(torch.cuda.device_count()):\n",
    "    print(f\"GPU {i}: {torch.cuda.get_device_name(i)}\")\n",
    "\n",
    "# Set seeds\n",
    "random.seed(0)\n",
    "torch.manual_seed(0)\n"
   ]
  },
  {
   "cell_type": "code",
   "execution_count": 2,
   "id": "1519726d-c1e0-49cf-8368-e5d36349dbf1",
   "metadata": {},
   "outputs": [
    {
     "name": "stderr",
     "output_type": "stream",
     "text": [
      "Downloading shards: 100%|█████████████████████████████████████████████████████████████████████| 2/2 [01:10<00:00, 35.40s/it]\n",
      "Loading checkpoint shards: 100%|██████████████████████████████████████████████████████████████| 2/2 [00:13<00:00,  6.81s/it]\n"
     ]
    }
   ],
   "source": [
    "# Log into Huggingface\n",
    "with open(\"../../huggingface_token.txt\", \"r\") as file:\n",
    "    access_token = file.read().strip()\n",
    "login(access_token)\n",
    "\n",
    "# Load Huggingface Model\n",
    "model_name = \"meta-llama/Llama-3.2-3B-Instruct\"\n",
    "tokenizer = AutoTokenizer.from_pretrained(model_name)\n",
    "model = AutoModelForCausalLM.from_pretrained(model_name, token=access_token, low_cpu_mem_usage=True,\n",
    "                    torch_dtype=torch.float16, device_map='auto')"
   ]
  },
  {
   "cell_type": "code",
   "execution_count": 3,
   "id": "52d84325-93c7-4fd1-a003-cf89f8405b77",
   "metadata": {},
   "outputs": [],
   "source": [
    "def get_message(note):\n",
    "    system = 'You are a medical assistant. Your tasks are to generate a clinical note and create an Assessment and Plan section. Additionally, you will also determine the fate of the patient. The patient either survives for the next few years or succumbs to either sudden cardiac death or pump failure death. Only suggest death if there is strong evidence for it. Provide your confidence in survival, sudden cardiac death, and pump failure death such that the confidence percentages add up to 100 percent and format these results in a list. Please output a clinical note that has a section for demographics, medical history, lab results, LVEF, medication, and ECG impressions. In the end, put the Assessment and Plan section along with a prediction. Provide reasoning for the prediction.'\n",
    "\n",
    "    prompt = f\"Here is the patient data: \\n{note}\"\n",
    "\n",
    "    messages = [\n",
    "\t\t{\"role\": \"system\", \"content\": system},\n",
    "\t\t{\"role\": \"user\", \"content\": prompt}\n",
    "\t]\n",
    "\n",
    "    return messages\n",
    "\n",
    "def extract_assistant_response(response):\n",
    "    parts = response.split(\"assistant\\n\\n\", 1)\n",
    "    return parts[1].strip() if len(parts) > 1 else response"
   ]
  },
  {
   "cell_type": "code",
   "execution_count": 4,
   "id": "609ef6f5-fbfe-415b-98d3-115bfee5b9fd",
   "metadata": {},
   "outputs": [
    {
     "data": {
      "text/plain": [
       "'Generate a structured clinical note based on the following data:\\n\\nAge: 58\\nGender: Male \\nWeight: 83 kg\\nHeight: 163 cm\\nNYHA Class: III\\nBlood Pressure: 110/75 mmHg\\nPast Medical History: Idiopathic dilated cardiomyopathy\\nAlbumin (g/L): 424.0\\nALT or GPT (IU/L): 10\\nAST or GOT (IU/L): 20\\nTotal Cholesterol (mmol/L): 54\\nCreatinine (mmol/L): 106\\nGamma-glutamil transpeptidase (IU/L): 20.0\\nGlucose (mmol/L): 57.0\\nHemoglobin (g/L): 132.0\\nHDL (mmol/L): 1,29\\nPotassium (mEq/L): 46.0\\nLDL (mmol/L): 3,36\\nSodium (mEq/L): 141.0\\nPro-BNP (ng/L): 1834.0\\nProtein (g/L): 69.0\\nT3 (pg/dL): 0,05\\nT4 (ng/L): 15.0\\nTroponin (ng/mL): 0,01\\nTSH (mIU/L): 3,02\\nUrea (mg/dL): 712\\nLVEF (%): 35\\nMedications: Beta Blockers, Digoxin, Loop Diuretics, ACE Inhibitor\\nHolter rhythm: permanent atrial fibrillation \\nECG Impression:\\n        - Ventricular Extrasystole: Polymorphic\\n        - Ventricular Tachycardia: Non-sustained VT\\n        - Non-sustained ventricular tachycardia (CH>10): Yes\\n        - Paroxysmal supraventricular tachyarrhythmia: Unknown paroxysmal supraventricular tachyarrhythmia code\\n        - Bradycardia: Unknown bradycardia code\\n            '"
      ]
     },
     "execution_count": 4,
     "metadata": {},
     "output_type": "execute_result"
    }
   ],
   "source": [
    "# Load in csv file with prompts\n",
    "df = pd.read_csv(\"../Data/subject-info-cleaned-with-prompts.csv\")\n",
    "df['Prompts'][0]"
   ]
  },
  {
   "cell_type": "code",
   "execution_count": 5,
   "id": "2f853ae3-e46b-4b53-bef1-c6d391d3ddd2",
   "metadata": {},
   "outputs": [
    {
     "data": {
      "text/plain": [
       "[{'role': 'system',\n",
       "  'content': 'You are a medical assistant. Your tasks are to generate a clinical note and create an Assessment and Plan section. Additionally, you will also determine the fate of the patient. The patient either survives for the next few years or succumbs to either sudden cardiac death or pump failure death. Only suggest death if there is strong evidence for it. Provide your confidence in survival, sudden cardiac death, and pump failure death such that the confidence percentages add up to 100 percent and format these results in a list. Please output a clinical note that has a section for demographics, medical history, lab results, LVEF, medication, and ECG impressions. In the end, put the Assessment and Plan section along with a prediction. Provide reasoning for the prediction.'},\n",
       " {'role': 'user',\n",
       "  'content': 'Here is the patient data: \\nGenerate a structured clinical note based on the following data:\\n\\nAge: 58\\nGender: Male \\nWeight: 83 kg\\nHeight: 163 cm\\nNYHA Class: III\\nBlood Pressure: 110/75 mmHg\\nPast Medical History: Idiopathic dilated cardiomyopathy\\nAlbumin (g/L): 424.0\\nALT or GPT (IU/L): 10\\nAST or GOT (IU/L): 20\\nTotal Cholesterol (mmol/L): 54\\nCreatinine (mmol/L): 106\\nGamma-glutamil transpeptidase (IU/L): 20.0\\nGlucose (mmol/L): 57.0\\nHemoglobin (g/L): 132.0\\nHDL (mmol/L): 1,29\\nPotassium (mEq/L): 46.0\\nLDL (mmol/L): 3,36\\nSodium (mEq/L): 141.0\\nPro-BNP (ng/L): 1834.0\\nProtein (g/L): 69.0\\nT3 (pg/dL): 0,05\\nT4 (ng/L): 15.0\\nTroponin (ng/mL): 0,01\\nTSH (mIU/L): 3,02\\nUrea (mg/dL): 712\\nLVEF (%): 35\\nMedications: Beta Blockers, Digoxin, Loop Diuretics, ACE Inhibitor\\nHolter rhythm: permanent atrial fibrillation \\nECG Impression:\\n        - Ventricular Extrasystole: Polymorphic\\n        - Ventricular Tachycardia: Non-sustained VT\\n        - Non-sustained ventricular tachycardia (CH>10): Yes\\n        - Paroxysmal supraventricular tachyarrhythmia: Unknown paroxysmal supraventricular tachyarrhythmia code\\n        - Bradycardia: Unknown bradycardia code\\n            '}]"
      ]
     },
     "execution_count": 5,
     "metadata": {},
     "output_type": "execute_result"
    }
   ],
   "source": [
    "message = get_message(df['Prompts'][0])\n",
    "message"
   ]
  },
  {
   "cell_type": "code",
   "execution_count": 7,
   "id": "859859f7-9443-449c-adca-9777693cbe79",
   "metadata": {},
   "outputs": [
    {
     "name": "stderr",
     "output_type": "stream",
     "text": [
      "Setting `pad_token_id` to `eos_token_id`:128001 for open-end generation.\n"
     ]
    }
   ],
   "source": [
    "# Put message into LLM\n",
    "input_text = tokenizer.apply_chat_template(message, tokenize = False, add_generation_prompt = True)\n",
    "inputs = tokenizer(input_text, return_tensors = \"pt\").to(model.device)\n",
    "output = model.generate(**inputs, max_new_tokens = 1000)"
   ]
  },
  {
   "cell_type": "code",
   "execution_count": 8,
   "id": "3e5bb423-a2e3-4a51-9d6c-0c156152bef9",
   "metadata": {},
   "outputs": [
    {
     "data": {
      "text/plain": [
       "\"Clinical Note\\n\\nPatient Demographics\\n\\n* Age: 58 years\\n* Gender: Male\\n* Weight: 83 kg\\n* Height: 163 cm\\n\\nMedical History\\n\\n* Past Medical History: Idiopathic dilated cardiomyopathy\\n\\nVital Signs\\n\\n* Blood Pressure: 110/75 mmHg\\n* Heart Rate: Not available\\n\\nLab Results\\n\\n* Albumin (g/L): 424.0\\n* ALT or GPT (IU/L): 10\\n* AST or GOT (IU/L): 20\\n* Total Cholesterol (mmol/L): 54\\n* Creatinine (mmol/L): 106\\n* Gamma-glutamil transpeptidase (IU/L): 20.0\\n* Glucose (mmol/L): 57.0\\n* Hemoglobin (g/L): 132.0\\n* HDL (mmol/L): 1,29\\n* Potassium (mEq/L): 46.0\\n* LDL (mmol/L): 3,36\\n* Sodium (mEq/L): 141.0\\n* Pro-BNP (ng/L): 1834.0\\n* Protein (g/L): 69.0\\n* T3 (pg/dL): 0.05\\n* T4 (ng/L): 15.0\\n* Troponin (ng/mL): 0.01\\n* TSH (mIU/L): 3.02\\n* Urea (mg/dL): 712\\n\\nEchocardiogram Results\\n\\n* LVEF (%): 35%\\n\\nMedications\\n\\n* Beta Blockers\\n* Digoxin\\n* Loop Diuretics\\n* ACE Inhibitor\\n\\nECG Impression\\n\\n* Ventricular Extrasystole: Polymorphic\\n* Ventricular Tachycardia: Non-sustained VT\\n* Non-sustained ventricular tachycardia (CH>10): Yes\\n* Paroxysmal supraventricular tachyarrhythmia: Unknown\\n* Bradycardia: Unknown\\n\\nAssessment and Plan\\n\\nAssessment:\\n\\n* The patient's LVEF of 35% indicates severe left ventricular dysfunction, which is consistent with his history of idiopathic dilated cardiomyopathy.\\n* The presence of non-sustained ventricular tachycardia (CH>10) on the Holter rhythm monitoring is a significant concern, as it increases the risk of sudden cardiac death.\\n* The patient's elevated Pro-BNP levels (1834.0 ng/L) suggest significant heart failure, which is further supported by his NYHA Class III classification.\\n* The patient's medication regimen is appropriate for managing his heart failure and arrhythmias.\\n\\nPlan:\\n\\n* Continue the patient on his current medication regimen, with close monitoring of his LVEF and Pro-BNP levels.\\n* Consider adding an anti-arrhythmic medication to manage the non-sustained ventricular tachycardia.\\n* Continue to monitor for signs of worsening heart failure, such as increased shortness of breath or fatigue.\\n* Schedule regular follow-up appointments to reassess the patient's condition and adjust his medication regimen as needed.\\n\\nPrediction:\\n\\nBased on the patient's severe left ventricular dysfunction, non-sustained ventricular tachycardia, and elevated Pro-BNP levels, I predict a 95% chance of pump failure death within the next 2-3 years. The patient's overall condition is unstable, and without further intervention, it is likely that he will succumb to heart failure.\\n\\nConfidence Breakdown:\\n\\n* Pump failure death: 95%\\n* Sudden cardiac death: 3%\\n* Survival: 2%\\n\\nNote: The confidence levels are subjective and based on the patient's clinical presentation and medical history.\""
      ]
     },
     "execution_count": 8,
     "metadata": {},
     "output_type": "execute_result"
    }
   ],
   "source": [
    "# Get result\n",
    "result = tokenizer.decode(output[0], skip_special_tokens = True)\n",
    "result = result.replace(\"**\", \"\")\n",
    "result = extract_assistant_response(result)\n",
    "result"
   ]
  },
  {
   "cell_type": "code",
   "execution_count": 9,
   "id": "2758b1f6-d0b4-428e-b7e6-e2f8fc4332c7",
   "metadata": {},
   "outputs": [
    {
     "name": "stdout",
     "output_type": "stream",
     "text": [
      "Clinical Note\n",
      "\n",
      "Patient Demographics\n",
      "\n",
      "* Age: 58 years\n",
      "* Gender: Male\n",
      "* Weight: 83 kg\n",
      "* Height: 163 cm\n",
      "\n",
      "Medical History\n",
      "\n",
      "* Past Medical History: Idiopathic dilated cardiomyopathy\n",
      "\n",
      "Vital Signs\n",
      "\n",
      "* Blood Pressure: 110/75 mmHg\n",
      "* Heart Rate: Not available\n",
      "\n",
      "Lab Results\n",
      "\n",
      "* Albumin (g/L): 424.0\n",
      "* ALT or GPT (IU/L): 10\n",
      "* AST or GOT (IU/L): 20\n",
      "* Total Cholesterol (mmol/L): 54\n",
      "* Creatinine (mmol/L): 106\n",
      "* Gamma-glutamil transpeptidase (IU/L): 20.0\n",
      "* Glucose (mmol/L): 57.0\n",
      "* Hemoglobin (g/L): 132.0\n",
      "* HDL (mmol/L): 1,29\n",
      "* Potassium (mEq/L): 46.0\n",
      "* LDL (mmol/L): 3,36\n",
      "* Sodium (mEq/L): 141.0\n",
      "* Pro-BNP (ng/L): 1834.0\n",
      "* Protein (g/L): 69.0\n",
      "* T3 (pg/dL): 0.05\n",
      "* T4 (ng/L): 15.0\n",
      "* Troponin (ng/mL): 0.01\n",
      "* TSH (mIU/L): 3.02\n",
      "* Urea (mg/dL): 712\n",
      "\n",
      "Echocardiogram Results\n",
      "\n",
      "* LVEF (%): 35%\n",
      "\n",
      "Medications\n",
      "\n",
      "* Beta Blockers\n",
      "* Digoxin\n",
      "* Loop Diuretics\n",
      "* ACE Inhibitor\n",
      "\n",
      "ECG Impression\n",
      "\n",
      "* Ventricular Extrasystole: Polymorphic\n",
      "* Ventricular Tachycardia: Non-sustained VT\n",
      "* Non-sustained ventricular tachycardia (CH>10): Yes\n",
      "* Paroxysmal supraventricular tachyarrhythmia: Unknown\n",
      "* Bradycardia: Unknown\n",
      "\n",
      "Assessment and Plan\n",
      "\n",
      "Assessment:\n",
      "\n",
      "* The patient's LVEF of 35% indicates severe left ventricular dysfunction, which is consistent with his history of idiopathic dilated cardiomyopathy.\n",
      "* The presence of non-sustained ventricular tachycardia (CH>10) on the Holter rhythm monitoring is a significant concern, as it increases the risk of sudden cardiac death.\n",
      "* The patient's elevated Pro-BNP levels (1834.0 ng/L) suggest significant heart failure, which is further supported by his NYHA Class III classification.\n",
      "* The patient's medication regimen is appropriate for managing his heart failure and arrhythmias.\n",
      "\n",
      "Plan:\n",
      "\n",
      "* Continue the patient on his current medication regimen, with close monitoring of his LVEF and Pro-BNP levels.\n",
      "* Consider adding an anti-arrhythmic medication to manage the non-sustained ventricular tachycardia.\n",
      "* Continue to monitor for signs of worsening heart failure, such as increased shortness of breath or fatigue.\n",
      "* Schedule regular follow-up appointments to reassess the patient's condition and adjust his medication regimen as needed.\n",
      "\n",
      "Prediction:\n",
      "\n",
      "Based on the patient's severe left ventricular dysfunction, non-sustained ventricular tachycardia, and elevated Pro-BNP levels, I predict a 95% chance of pump failure death within the next 2-3 years. The patient's overall condition is unstable, and without further intervention, it is likely that he will succumb to heart failure.\n",
      "\n",
      "Confidence Breakdown:\n",
      "\n",
      "* Pump failure death: 95%\n",
      "* Sudden cardiac death: 3%\n",
      "* Survival: 2%\n",
      "\n",
      "Note: The confidence levels are subjective and based on the patient's clinical presentation and medical history.\n"
     ]
    }
   ],
   "source": [
    "test_result = result.replace(\"**\", \"\")\n",
    "print(extract_assistant_response(test_result))"
   ]
  },
  {
   "cell_type": "code",
   "execution_count": 10,
   "id": "e488b15a-9f6b-4efe-9467-cd6d7f7c648e",
   "metadata": {},
   "outputs": [
    {
     "name": "stderr",
     "output_type": "stream",
     "text": [
      "/tmp/ipykernel_2328487/455679211.py:3: SettingWithCopyWarning: \n",
      "A value is trying to be set on a copy of a slice from a DataFrame.\n",
      "Try using .loc[row_indexer,col_indexer] = value instead\n",
      "\n",
      "See the caveats in the documentation: https://pandas.pydata.org/pandas-docs/stable/user_guide/indexing.html#returning-a-view-versus-a-copy\n",
      "  df_test['Reports'] = None\n"
     ]
    }
   ],
   "source": [
    "# Test\n",
    "df_test = df[[df.columns[1]]]\n",
    "df_test['Reports'] = None\n"
   ]
  },
  {
   "cell_type": "code",
   "execution_count": 11,
   "id": "a0b4c99b-0f2a-4670-b7d7-58a0566b6131",
   "metadata": {},
   "outputs": [
    {
     "name": "stderr",
     "output_type": "stream",
     "text": [
      "Setting `pad_token_id` to `eos_token_id`:128001 for open-end generation.                              | 0/5 [00:00<?, ?it/s]\n",
      "Setting `pad_token_id` to `eos_token_id`:128001 for open-end generation.                      | 1/5 [00:22<01:31, 22.89s/it]\n",
      "Setting `pad_token_id` to `eos_token_id`:128001 for open-end generation.                      | 2/5 [00:54<01:23, 27.87s/it]\n",
      "Setting `pad_token_id` to `eos_token_id`:128001 for open-end generation.                      | 3/5 [01:18<00:52, 26.05s/it]\n",
      "Setting `pad_token_id` to `eos_token_id`:128001 for open-end generation.█████▍                | 4/5 [01:47<00:27, 27.39s/it]\n",
      "Test: 100%|███████████████████████████████████████████████████████████████████████████████████| 5/5 [02:14<00:00, 26.94s/it]\n"
     ]
    }
   ],
   "source": [
    "for i in tqdm(range(5), desc = \"Test\"):\n",
    "    # Get message\n",
    "    message = get_message(df['Prompts'][i])\n",
    "\n",
    "    # Put message into LLM\n",
    "    input_text = tokenizer.apply_chat_template(message, tokenize = False, add_generation_prompt = True)\n",
    "    inputs = tokenizer(input_text, return_tensors = \"pt\").to(model.device)\n",
    "    output = model.generate(**inputs, max_new_tokens = 1000)\n",
    "\n",
    "    # Get result\n",
    "    result = tokenizer.decode(output[0], skip_special_tokens = True)\n",
    "    result = result.replace(\"**\", \"\")\n",
    "    result = extract_assistant_response(result)\n",
    "\n",
    "    # Store result\n",
    "    df_test.loc[i, 'Reports'] = result\n",
    "    "
   ]
  },
  {
   "cell_type": "code",
   "execution_count": 18,
   "id": "969e0f1e-6f5a-4c6a-90ed-4b4a3d50ad90",
   "metadata": {},
   "outputs": [
    {
     "name": "stdout",
     "output_type": "stream",
     "text": [
      "Clinical Note\n",
      "\n",
      "Patient Information:\n",
      "\n",
      "* Name: [Not provided]\n",
      "* Age: 70\n",
      "* Gender: Male\n",
      "* Weight: 97 kg\n",
      "* Height: 183 cm\n",
      "* NYHA Class: II\n",
      "\n",
      "Demographics:\n",
      "\n",
      "* Date of Birth: [Not provided]\n",
      "* Social History: [Not provided]\n",
      "\n",
      "Medical History:\n",
      "\n",
      "* Ischemic dilated cardiomyopathy\n",
      "* Diabetes\n",
      "* Dyslipemia\n",
      "* Hypertension\n",
      "* Myocardial Infarction\n",
      "\n",
      "Vital Signs:\n",
      "\n",
      "* Blood Pressure: 125/85 mmHg\n",
      "* Pulse: 100 beats per minute\n",
      "* Respiratory Rate: 20 breaths per minute\n",
      "* Oxygen Saturation: 98% on room air\n",
      "\n",
      "Medications:\n",
      "\n",
      "* Diabetes Medication\n",
      "* Beta Blockers\n",
      "* Loop Diuretics\n",
      "* Statins\n",
      "* ACE Inhibitor\n",
      "* Nitrovasodilator\n",
      "\n",
      "Lab Results:\n",
      "\n",
      "* Albumin: 453.0 g/L\n",
      "* ALT or GPT: 24 IU/L\n",
      "* AST or GOT: 23 IU/L\n",
      "* Total Cholesterol: 572 mmol/L\n",
      "* Creatinine: 88 mmol/L\n",
      "* Gamma-glutamil transpeptidase: 26.0 IU/L\n",
      "* Glucose: 78.0 mmol/L\n",
      "* Hemoglobin: 159.0 g/L\n",
      "* HDL: 1.06 mmol/L\n",
      "* Potassium: 49.0 mEq/L\n",
      "* LDL: 3.28 mmol/L\n",
      "* Sodium: 140.0 mEq/L\n",
      "* Pro-BNP: 456.0 ng/L\n",
      "* Protein: 82.0 g/L\n",
      "* T3: 0.05 pg/dL\n",
      "* T4: 16.0 ng/L\n",
      "* Troponin: 0.01 ng/mL\n",
      "* TSH: 1.01 mIU/L\n",
      "* Urea: 1091 mg/dL\n",
      "\n",
      "ECG Impression:\n",
      "\n",
      "* Ventricular Extrasystole: Polymorphic\n",
      "* Ventricular Tachycardia: No\n",
      "* Non-sustained ventricular tachycardia (CH>10): No\n",
      "* Paroxysmal supraventricular tachyarrhythmia: No\n",
      "* Bradycardia: Unknown bradycardia code\n",
      "\n",
      "Assessment and Plan:\n",
      "\n",
      "The patient's clinical presentation and lab results indicate a high risk for cardiac complications. The patient has a history of ischemic dilated cardiomyopathy, which is likely contributing to the patient's current symptoms. The elevated Pro-BNP levels and low LVEF suggest significant cardiac dysfunction. The presence of ventricular extrasystoles on the ECG is concerning for arrhythmia, which may increase the risk of sudden cardiac death.\n",
      "\n",
      "Given the patient's high risk for cardiac complications, it is essential to closely monitor the patient's cardiac function and rhythm. The patient should be admitted to the hospital for further evaluation and management.\n",
      "\n",
      "Prediction:\n",
      "\n",
      "* Survival: 30% (Confidence: 70%)\n",
      "* Sudden Cardiac Death: 20% (Confidence: 60%)\n",
      "* Pump Failure Death: 50% (Confidence: 70%)\n",
      "\n",
      "The high risk of cardiac complications, combined with the patient's history of ischemic dilated cardiomyopathy, makes it likely that the patient will succumb to pump failure within the next few years. However, the presence of ventricular extrasystoles on the ECG may increase the risk of sudden cardiac death, which cannot be ruled out.\n"
     ]
    }
   ],
   "source": [
    "print(df_test['Reports'][4])"
   ]
  }
 ],
 "metadata": {
  "kernelspec": {
   "display_name": "Python 3 (ipykernel)",
   "language": "python",
   "name": "python3"
  },
  "language_info": {
   "codemirror_mode": {
    "name": "ipython",
    "version": 3
   },
   "file_extension": ".py",
   "mimetype": "text/x-python",
   "name": "python",
   "nbconvert_exporter": "python",
   "pygments_lexer": "ipython3",
   "version": "3.10.12"
  }
 },
 "nbformat": 4,
 "nbformat_minor": 5
}
